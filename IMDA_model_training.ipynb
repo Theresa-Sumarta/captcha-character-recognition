{
  "nbformat": 4,
  "nbformat_minor": 0,
  "metadata": {
    "colab": {
      "provenance": []
    },
    "kernelspec": {
      "name": "python3",
      "display_name": "Python 3"
    },
    "language_info": {
      "name": "python"
    }
  },
  "cells": [
    {
      "cell_type": "markdown",
      "source": [
        "## Clean and Transform Captcha Images into a Pixel-Based Dataset"
      ],
      "metadata": {
        "id": "ax-mnnbckvr8"
      }
    },
    {
      "cell_type": "markdown",
      "source": [
        "I list the files in the input and output directories to confirm that the expected .txt image files and any processed outputs are available. Basic error handling is included to catch issues like missing folders or access errors."
      ],
      "metadata": {
        "id": "UOJHy_MtZAqY"
      }
    },
    {
      "cell_type": "code",
      "metadata": {
        "colab": {
          "base_uri": "https://localhost:8080/"
        },
        "id": "9d8782ef",
        "outputId": "8bf89db2-85c5-4246-ef31-4186fd99c3b3"
      },
      "source": [
        "import os\n",
        "from google.colab import drive\n",
        "\n",
        "# Mount Google Drive\n",
        "drive.mount('/content/drive')\n",
        "\n",
        "input_folder_path = '/content/drive/My Drive/sampleCaptchas/input'\n",
        "output_folder_path = '/content/drive/My Drive/sampleCaptchas/output'\n",
        "\n",
        "# List files in the input folder\n",
        "print(\"Files in input folder:\")\n",
        "try:\n",
        "    input_files = os.listdir(input_folder_path)\n",
        "    for file in input_files:\n",
        "        print(file)\n",
        "except FileNotFoundError:\n",
        "    print(f\"Input folder not found at: {input_folder_path}\")\n",
        "except OSError as e:\n",
        "    print(f\"OSError accessing input folder: {e}\")\n",
        "\n",
        "\n",
        "print(\"\\nFiles in output folder:\")\n",
        "\n",
        "# List files in the output folder\n",
        "try:\n",
        "    output_files = os.listdir(output_folder_path)\n",
        "    for file in output_files:\n",
        "        print(file)\n",
        "except FileNotFoundError:\n",
        "    print(f\"Output folder not found at: {output_folder_path}\")\n",
        "except OSError as e:\n",
        "    print(f\"OSError accessing output folder: {e}\")"
      ],
      "execution_count": 1,
      "outputs": [
        {
          "output_type": "stream",
          "name": "stdout",
          "text": [
            "Drive already mounted at /content/drive; to attempt to forcibly remount, call drive.mount(\"/content/drive\", force_remount=True).\n",
            "Files in input folder:\n",
            "input07.jpg\n",
            "input05.jpg\n",
            "input02.jpg\n",
            "input00.jpg\n",
            "input01.jpg\n",
            "input06.jpg\n",
            "input04.jpg\n",
            "input03.jpg\n",
            "input10.jpg\n",
            "input08.jpg\n",
            "input11.jpg\n",
            "input16.jpg\n",
            "input13.jpg\n",
            "input14.jpg\n",
            "input12.jpg\n",
            "input17.jpg\n",
            "input15.jpg\n",
            "input18.jpg\n",
            "input19.jpg\n",
            "input21.jpg\n",
            "input22.jpg\n",
            "input20.jpg\n",
            "input23.jpg\n",
            "input24.jpg\n",
            "input100.jpg\n",
            "input01.txt\n",
            "input00.txt\n",
            "input02.txt\n",
            "input03.txt\n",
            "input04.txt\n",
            "input05.txt\n",
            "input07.txt\n",
            "input06.txt\n",
            "input09.txt\n",
            "input08.txt\n",
            "input10.txt\n",
            "input11.txt\n",
            "input12.txt\n",
            "input13.txt\n",
            "input14.txt\n",
            "input15.txt\n",
            "input16.txt\n",
            "input17.txt\n",
            "input18.txt\n",
            "input19.txt\n",
            "input20.txt\n",
            "input21.txt\n",
            "input22.txt\n",
            "input23.txt\n",
            "input24.txt\n",
            "input09.jpg\n",
            "\n",
            "Files in output folder:\n",
            "output19.txt\n",
            "output06.txt\n",
            "output13.txt\n",
            "output15.txt\n",
            "output22.txt\n",
            "output03.txt\n",
            "output10.txt\n",
            "output01.txt\n",
            "output04.txt\n",
            "output12.txt\n",
            "output16.txt\n",
            "output09.txt\n",
            "output07.txt\n",
            "output11.txt\n",
            "output20.txt\n",
            "output17.txt\n",
            "output24.txt\n",
            "output08.txt\n",
            "output23.txt\n",
            "output05.txt\n",
            "output14.txt\n",
            "output00.txt\n",
            "output02.txt\n",
            "output18.txt\n"
          ]
        }
      ]
    },
    {
      "cell_type": "markdown",
      "source": [
        " I load a sample CAPTCHA image (input24.jpg) using OpenCV, which reads images in BGR format by default. To display the image correctly using Matplotlib, I convert it to RGB format. This visualization helps to inspect the image layout and character spacing before manual segmentation."
      ],
      "metadata": {
        "id": "d-HHqOcpZLcy"
      }
    },
    {
      "cell_type": "code",
      "source": [
        "import cv2\n",
        "import matplotlib.pyplot as plt\n",
        "\n",
        "# Load image using OpenCV\n",
        "img = cv2.imread(\"/content/drive/My Drive/sampleCaptchas/input/input24.jpg\")\n",
        "\n",
        "# Convert to RGB for correct color display\n",
        "img_rgb = cv2.cvtColor(img, cv2.COLOR_BGR2RGB)\n",
        "\n",
        "# Show it\n",
        "plt.imshow(img_rgb)\n",
        "plt.axis('off')\n",
        "plt.title(\"input24.jpg\")\n",
        "plt.show()\n"
      ],
      "metadata": {
        "colab": {
          "base_uri": "https://localhost:8080/",
          "height": 307
        },
        "id": "OtC-eaWh2uCN",
        "outputId": "a578ab8a-c718-4617-a6c2-c84802c3ab6d"
      },
      "execution_count": 2,
      "outputs": [
        {
          "output_type": "display_data",
          "data": {
            "text/plain": [
              "<Figure size 640x480 with 1 Axes>"
            ],
            "image/png": "[encoded data removed]"
          },
          "metadata": {}
        }
      ]
    },
    {
      "cell_type": "markdown",
      "source": [
        "This code loads and visualizes an image stored in a .txt file, where each line represents pixel RGB values. It reconstructs the image by reading its dimensions and pixel data, then displays it using matplotlib. This step helps verify that the .txt file correctly represents the image and aligns with the original image file."
      ],
      "metadata": {
        "id": "6IUnxVgZZxhi"
      }
    },
    {
      "cell_type": "code",
      "source": [
        "import numpy as np\n",
        "import ast\n",
        "import cv2\n",
        "import matplotlib.pyplot as plt\n",
        "\n",
        "def load_txt_image(txt_path):\n",
        "    with open(txt_path, 'r') as f:\n",
        "        lines = f.readlines()\n",
        "\n",
        "    # First line: height and width\n",
        "    height, width = map(int, lines[0].strip().split())\n",
        "\n",
        "    pixels = []\n",
        "    for line in lines[1:]:\n",
        "        row = []\n",
        "        for pixel_str in line.strip().split():\n",
        "            r, g, b = map(int, pixel_str.split(','))\n",
        "            row.append([r, g, b])\n",
        "        pixels.append(row)\n",
        "\n",
        "    # Convert to numpy array\n",
        "    img_array = np.array(pixels, dtype=np.uint8)\n",
        "    return img_array\n",
        "\n",
        "# Example usage\n",
        "txt_path = \"/content/drive/My Drive/sampleCaptchas/input/input24.txt\"\n",
        "img_array = load_txt_image(txt_path)\n",
        "\n",
        "# Show the image\n",
        "plt.imshow(img_array)\n",
        "plt.axis('off')\n",
        "plt.title(\"Image from .txt File\")\n",
        "plt.show()\n"
      ],
      "metadata": {
        "colab": {
          "base_uri": "https://localhost:8080/",
          "height": 307
        },
        "id": "vKnF7okG7ilY",
        "outputId": "8e521e2d-bbe7-4bbd-c81e-0d5cc838ae46"
      },
      "execution_count": 3,
      "outputs": [
        {
          "output_type": "display_data",
          "data": {
            "text/plain": [
              "<Figure size 640x480 with 1 Axes>"
            ],
            "image/png": "[encoded data removed]"
          },
          "metadata": {}
        }
      ]
    },
    {
      "cell_type": "markdown",
      "source": [
        "This code segments the CAPTCHA image into individual character regions using manually specified x-coordinate ranges. By visualizing these segments, I can iteratively test and adjust the coordinates to find the optimal boundaries that correctly isolate each character. This manual tuning ensures consistent character sizing and positioning for further processing and model training."
      ],
      "metadata": {
        "id": "eHmL_yEDaN7V"
      }
    },
    {
      "cell_type": "code",
      "source": [
        "import numpy as np\n",
        "import matplotlib.pyplot as plt\n",
        "\n",
        "def load_txt_image(txt_path):\n",
        "    with open(txt_path, 'r') as f:\n",
        "        lines = f.readlines()\n",
        "\n",
        "    height, width = map(int, lines[0].strip().split())\n",
        "    pixels = []\n",
        "    for line in lines[1:]:\n",
        "        row = []\n",
        "        for pixel_str in line.strip().split():\n",
        "            r, g, b = map(int, pixel_str.split(','))\n",
        "            row.append([r, g, b])\n",
        "        pixels.append(row)\n",
        "    img_array = np.array(pixels, dtype=np.uint8)\n",
        "    return img_array\n",
        "\n",
        "def manual_segment(img, x_coords):\n",
        "    segments = []\n",
        "    for (x1, x2) in x_coords:\n",
        "        segment = img[:, x1:x2]\n",
        "        segments.append(segment)\n",
        "    return segments\n",
        "\n",
        "def plot_segments(segments):\n",
        "    plt.figure(figsize=(12,3))\n",
        "    for i, seg in enumerate(segments):\n",
        "        plt.subplot(1, len(segments), i+1)\n",
        "        plt.imshow(seg)\n",
        "        plt.axis('off')\n",
        "        plt.title(f\"Char {i+1}\")\n",
        "    plt.show()\n",
        "\n",
        "\n",
        "txt_path = \"/content/drive/My Drive/sampleCaptchas/input/input24.txt\"\n",
        "img = load_txt_image(txt_path)\n",
        "\n",
        "# Manually set x-coordinates for the 5 characters (adjust after visual inspection)\n",
        "x_coords = [\n",
        "    (5, 13),\n",
        "    (14, 22),\n",
        "    (23, 31),\n",
        "    (32, 40),\n",
        "    (41, 49)\n",
        "]\n",
        "\n",
        "segments = manual_segment(img, x_coords)\n",
        "plot_segments(segments)\n"
      ],
      "metadata": {
        "colab": {
          "base_uri": "https://localhost:8080/",
          "height": 237
        },
        "id": "easPpC5m76oe",
        "outputId": "e9f1e4c0-b10c-4666-ed55-e5e582ee6ef5"
      },
      "execution_count": 4,
      "outputs": [
        {
          "output_type": "display_data",
          "data": {
            "text/plain": [
              "<Figure size 1200x300 with 5 Axes>"
            ],
            "image/png": "[encoded data removed]"
          },
          "metadata": {}
        }
      ]
    },
    {
      "cell_type": "markdown",
      "source": [
        "This code loads the CAPTCHA image from a .txt file, segments it into individual characters based on specified x-coordinate ranges, and applies a cleaning function to remove grayish background lines. The parameters gray_thresh=50 and intensity_range=(50, 260) were manually tuned to effectively identify and mask out the gray pixels, which helps reduce noise and improves character clarity for better downstream processing. The resulting cleaned character segments are then visualized for verification."
      ],
      "metadata": {
        "id": "qB9xrhR5akDt"
      }
    },
    {
      "cell_type": "code",
      "source": [
        "import numpy as np\n",
        "import cv2\n",
        "import matplotlib.pyplot as plt\n",
        "\n",
        "# Path to test input txt\n",
        "txt_path = \"/content/drive/My Drive/sampleCaptchas/input/input24.txt\"\n",
        "output_dir = \"/content/drive/My Drive/sampleCaptchas/test_output\"\n",
        "base_filename = \"input24\"\n",
        "\n",
        "# Load the RGB image from .txt\n",
        "def load_image_from_txt(txt_path):\n",
        "    with open(txt_path, \"r\") as f:\n",
        "        lines = f.readlines()\n",
        "    height, width = map(int, lines[0].split())\n",
        "    img = np.zeros((height, width, 3), dtype=np.uint8)\n",
        "    for i, line in enumerate(lines[1:]):\n",
        "        pixels = line.strip().split()\n",
        "        for j, pix in enumerate(pixels):\n",
        "            r, g, b = map(int, pix.split(\",\"))\n",
        "            img[i, j] = [r, g, b]\n",
        "    return img\n",
        "\n",
        "# Define the segmentation coordinates\n",
        "x_coords = [\n",
        "    (5, 13),\n",
        "    (14, 22),\n",
        "    (23, 31),\n",
        "    (32, 40),\n",
        "    (41, 49)\n",
        "]\n",
        "\n",
        "# Segment and clean\n",
        "def segment_image(img, x_coords):\n",
        "    segments = [img[:, x1:x2] for x1, x2 in x_coords]\n",
        "    return segments\n",
        "\n",
        "# Reuse from before\n",
        "def clean_greylines(segment, gray_thresh=50, intensity_range=(50, 260)):\n",
        "    cleaned = segment.copy()\n",
        "\n",
        "    r = cleaned[:, :, 0]\n",
        "    g = cleaned[:, :, 1]\n",
        "    b = cleaned[:, :, 2]\n",
        "\n",
        "    # Conditions for gray detection\n",
        "    gray_mask = (\n",
        "        (np.abs(r - g) < gray_thresh) &\n",
        "        (np.abs(g - b) < gray_thresh) &\n",
        "        (r >= intensity_range[0]) & (r <= intensity_range[1]) &\n",
        "        (g >= intensity_range[0]) & (g <= intensity_range[1]) &\n",
        "        (b >= intensity_range[0]) & (b <= intensity_range[1])\n",
        "    )\n",
        "\n",
        "    # Apply mask to set those pixels to white\n",
        "    cleaned[gray_mask] = [255, 255, 255]\n",
        "    return cleaned\n",
        "\n",
        "# Load, segment, clean and show\n",
        "img = load_image_from_txt(txt_path)\n",
        "segments = segment_image(img, x_coords)\n",
        "cleaned_segments = [clean_greylines(seg) for seg in segments]\n",
        "\n",
        "# Visualize\n",
        "plt.figure(figsize=(10, 2))\n",
        "for idx, seg in enumerate(cleaned_segments):\n",
        "    plt.subplot(1, 5, idx + 1)\n",
        "    plt.imshow(seg)\n",
        "    plt.title(f\"Char {idx+1}\")\n",
        "    plt.axis('off')\n",
        "plt.tight_layout()\n",
        "plt.show()\n"
      ],
      "metadata": {
        "colab": {
          "base_uri": "https://localhost:8080/",
          "height": 182
        },
        "id": "86m2lCwdhtNr",
        "outputId": "c54f6cdc-692a-4d1f-9197-3bf6cc35cb7b"
      },
      "execution_count": 5,
      "outputs": [
        {
          "output_type": "display_data",
          "data": {
            "text/plain": [
              "<Figure size 1000x200 with 5 Axes>"
            ],
            "image/png": "[encoded data removed]"
          },
          "metadata": {}
        }
      ]
    },
    {
      "cell_type": "markdown",
      "source": [
        "The code below defines a pipeline to build a labeled dataset from raw CAPTCHA images stored as .txt files.\n",
        "\n",
        "1. **Image Loading**: The function load_txt_image reads each .txt file, which contains RGB pixel values for a CAPTCHA image, and converts it into a 3D NumPy array representing the image.\n",
        "\n",
        "2. **Segmentation**: The manual_segment function slices the full image horizontally into individual character segments based on predefined x-coordinate ranges (x_coords). Each segment ideally corresponds to one character.\n",
        "\n",
        "3. **Cleaning**: Each character segment is processed by clean_greylines, which removes grayish background lines that often interfere with character recognition. This is done by masking pixels with similar RGB values within a threshold (gray_thresh) and intensity range, replacing them with white pixels.\n",
        "\n",
        "4. **Label Extraction**: The extract_label function reads the ground-truth label corresponding to each CAPTCHA image from a matching text file in the label_folder.\n",
        "\n",
        "5. **Dataset Construction**: The build_dataset function iterates through all input .txt image files, segments and cleans them, and pairs each character segment with its label. The character images are flattened into feature vectors. It skips any files where the number of segments doesn't match the label length, ensuring data integrity.\n",
        "\n",
        "6. **Saving Dataset**: Finally, the feature vectors and their labels are combined into a DataFrame, expanded into individual pixel columns, and saved as a CSV file (captcha_characters_dataset.csv). This dataset will be used for model training.\n",
        "\n",
        "Overall, this process transforms raw image data and labels into a structured, machine-readable dataset suitable for training classification models on individual CAPTCHA characters."
      ],
      "metadata": {
        "id": "q5nrrCR2a5lD"
      }
    },
    {
      "cell_type": "code",
      "source": [
        "import numpy as np\n",
        "import os\n",
        "import pandas as pd\n",
        "\n",
        "def load_txt_image(txt_path):\n",
        "    with open(txt_path, 'r') as f:\n",
        "        lines = f.readlines()\n",
        "    height, width = map(int, lines[0].strip().split())\n",
        "    pixels = []\n",
        "    for line in lines[1:]:\n",
        "        row = []\n",
        "        for pixel_str in line.strip().split():\n",
        "            r, g, b = map(int, pixel_str.split(','))\n",
        "            row.append([r, g, b])\n",
        "        pixels.append(row)\n",
        "    return np.array(pixels, dtype=np.uint8)\n",
        "\n",
        "def manual_segment(img, x_coords):\n",
        "    return [img[:, x1:x2] for (x1, x2) in x_coords]\n",
        "\n",
        "def clean_greylines(segment, gray_thresh=50, intensity_range=(50, 260)):\n",
        "    seg = segment.copy()\n",
        "    gray = np.abs(seg[:, :, 0] - seg[:, :, 1]) < gray_thresh\n",
        "    gray &= np.abs(seg[:, :, 1] - seg[:, :, 2]) < gray_thresh\n",
        "    intensity = seg.mean(axis=2)\n",
        "    mask = gray & (intensity >= intensity_range[0]) & (intensity <= intensity_range[1])\n",
        "    seg[mask] = [255, 255, 255]\n",
        "    return seg\n",
        "\n",
        "def extract_label(txt_file, label_folder):\n",
        "    label_file = os.path.join(label_folder, txt_file.replace(\"input\", \"output\"))\n",
        "    with open(label_file, \"r\") as f:\n",
        "        label = f.read().strip()\n",
        "    return label\n",
        "\n",
        "def build_dataset(input_folder, label_folder, x_coords):\n",
        "    data = []\n",
        "\n",
        "    txt_files = sorted([f for f in os.listdir(input_folder) if f.endswith(\".txt\")])\n",
        "    for txt_file in txt_files:\n",
        "        txt_path = os.path.join(input_folder, txt_file)\n",
        "        try:\n",
        "            img = load_txt_image(txt_path)\n",
        "            segments = manual_segment(img, x_coords)\n",
        "            cleaned_segments = [clean_greylines(seg) for seg in segments]\n",
        "\n",
        "            label = extract_label(txt_file, label_folder)\n",
        "\n",
        "            if len(cleaned_segments) != len(label):\n",
        "                print(f\"Skipping {txt_file}: mismatch between segments and label length\")\n",
        "                continue\n",
        "\n",
        "            for seg_img, char in zip(cleaned_segments, label):\n",
        "                flattened = seg_img.flatten()\n",
        "                data.append({\n",
        "                    \"label\": char,\n",
        "                    \"features\": flattened.tolist()\n",
        "                })\n",
        "\n",
        "        except Exception as e:\n",
        "            print(f\"Error with {txt_file}: {e}\")\n",
        "            continue\n",
        "\n",
        "    return pd.DataFrame(data)\n",
        "\n",
        "# === CONFIGURATION ===\n",
        "input_folder = \"/content/drive/My Drive/sampleCaptchas/input\"\n",
        "label_folder = \"/content/drive/My Drive/sampleCaptchas/output\"\n",
        "x_coords = [(5, 13), (14, 22), (23, 31), (32, 40), (41, 49)]\n",
        "\n",
        "# === RUN ===\n",
        "df = build_dataset(input_folder, label_folder, x_coords)\n",
        "\n",
        "# Expand features into columns and save as csv file\n",
        "features_df = pd.DataFrame(df[\"features\"].to_list())\n",
        "features_df.insert(0, \"label\", df[\"label\"])\n",
        "features_df.to_csv(\"captcha_characters_dataset.csv\", index=False)\n",
        "\n",
        "print(\"Dataset saved to captcha_characters_dataset.csv\")\n"
      ],
      "metadata": {
        "colab": {
          "base_uri": "https://localhost:8080/"
        },
        "id": "jxvnmY9CijSf",
        "outputId": "d92b10e3-d9df-4dea-ebd8-d4780118fea7"
      },
      "execution_count": 6,
      "outputs": [
        {
          "output_type": "stream",
          "name": "stdout",
          "text": [
            "Error with input21.txt: [Errno 2] No such file or directory: '/content/drive/My Drive/sampleCaptchas/output/output21.txt'\n",
            "Dataset saved to captcha_characters_dataset.csv\n"
          ]
        }
      ]
    },
    {
      "cell_type": "markdown",
      "source": [
        "## Data Loading and Exploratory Analysis\n"
      ],
      "metadata": {
        "id": "vjQm1Oyqk-fC"
      }
    },
    {
      "cell_type": "code",
      "source": [
        "import pandas as pd\n",
        "\n",
        "df = pd.read_csv(\"captcha_characters_dataset.csv\")"
      ],
      "metadata": {
        "id": "lI7S370ElCzE"
      },
      "execution_count": 7,
      "outputs": []
    },
    {
      "cell_type": "code",
      "source": [
        "df.head()"
      ],
      "metadata": {
        "colab": {
          "base_uri": "https://localhost:8080/",
          "height": 255
        },
        "id": "-K4U0viUlW7B",
        "outputId": "f147f79e-f358-4f60-a184-39f96cbb1a0a"
      },
      "execution_count": 8,
      "outputs": [
        {
          "output_type": "execute_result",
          "data": {
            "text/plain": [
              "  label    0    1    2    3    4    5    6    7    8  ...  710  711  712  713  \\\n",
              "0     E  255  255  255  255  255  255  255  255  255  ...  255  255  255  255   \n",
              "1     G  255  255  255  255  255  255  255  255  255  ...  255  255  255  255   \n",
              "2     Y  255  255  255  255  255  255  255  255  255  ...  255  255  255  255   \n",
              "3     K  255  255  255  255  255  255  255  255  255  ...  255  255  255  255   \n",
              "4     4  255  255  255  255  255  255  255  255  255  ...  255  255  255  255   \n",
              "\n",
              "   714  715  716  717  718  719  \n",
              "0  255  255  255  255  255  255  \n",
              "1  255  255  255  255  255  255  \n",
              "2  255  255  255  255  255  255  \n",
              "3  255  255  255  255  255  255  \n",
              "4  255  255  255  255  255  255  \n",
              "\n",
              "[5 rows x 721 columns]"
            ],
            "text/html": [
              "\n",
              "  <div id=\"df-6e29029f-4c4b-41a3-a562-b4a0e381784e\" class=\"colab-df-container\">\n",
              "    <div>\n",
              "<style scoped>\n",
              "    .dataframe tbody tr th:only-of-type {\n",
              "        vertical-align: middle;\n",
              "    }\n",
              "\n",
              "    .dataframe tbody tr th {\n",
              "        vertical-align: top;\n",
              "    }\n",
              "\n",
              "    .dataframe thead th {\n",
              "        text-align: right;\n",
              "    }\n",
              "</style>\n",
              "<table border=\"1\" class=\"dataframe\">\n",
              "  <thead>\n",
              "    <tr style=\"text-align: right;\">\n",
              "      <th></th>\n",
              "      <th>label</th>\n",
              "      <th>0</th>\n",
              "      <th>1</th>\n",
              "      <th>2</th>\n",
              "      <th>3</th>\n",
              "      <th>4</th>\n",
              "      <th>5</th>\n",
              "      <th>6</th>\n",
              "      <th>7</th>\n",
              "      <th>8</th>\n",
              "      <th>...</th>\n",
              "      <th>710</th>\n",
              "      <th>711</th>\n",
              "      <th>712</th>\n",
              "      <th>713</th>\n",
              "      <th>714</th>\n",
              "      <th>715</th>\n",
              "      <th>716</th>\n",
              "      <th>717</th>\n",
              "      <th>718</th>\n",
              "      <th>719</th>\n",
              "    </tr>\n",
              "  </thead>\n",
              "  <tbody>\n",
              "    <tr>\n",
              "      <th>0</th>\n",
              "      <td>E</td>\n",
              "      <td>255</td>\n",
              "      <td>255</td>\n",
              "      <td>255</td>\n",
              "      <td>255</td>\n",
              "      <td>255</td>\n",
              "      <td>255</td>\n",
              "      <td>255</td>\n",
              "      <td>255</td>\n",
              "      <td>255</td>\n",
              "      <td>...</td>\n",
              "      <td>255</td>\n",
              "      <td>255</td>\n",
              "      <td>255</td>\n",
              "      <td>255</td>\n",
              "      <td>255</td>\n",
              "      <td>255</td>\n",
              "      <td>255</td>\n",
              "      <td>255</td>\n",
              "      <td>255</td>\n",
              "      <td>255</td>\n",
              "    </tr>\n",
              "    <tr>\n",
              "      <th>1</th>\n",
              "      <td>G</td>\n",
              "      <td>255</td>\n",
              "      <td>255</td>\n",
              "      <td>255</td>\n",
              "      <td>255</td>\n",
              "      <td>255</td>\n",
              "      <td>255</td>\n",
              "      <td>255</td>\n",
              "      <td>255</td>\n",
              "      <td>255</td>\n",
              "      <td>...</td>\n",
              "      <td>255</td>\n",
              "      <td>255</td>\n",
              "      <td>255</td>\n",
              "      <td>255</td>\n",
              "      <td>255</td>\n",
              "      <td>255</td>\n",
              "      <td>255</td>\n",
              "      <td>255</td>\n",
              "      <td>255</td>\n",
              "      <td>255</td>\n",
              "    </tr>\n",
              "    <tr>\n",
              "      <th>2</th>\n",
              "      <td>Y</td>\n",
              "      <td>255</td>\n",
              "      <td>255</td>\n",
              "      <td>255</td>\n",
              "      <td>255</td>\n",
              "      <td>255</td>\n",
              "      <td>255</td>\n",
              "      <td>255</td>\n",
              "      <td>255</td>\n",
              "      <td>255</td>\n",
              "      <td>...</td>\n",
              "      <td>255</td>\n",
              "      <td>255</td>\n",
              "      <td>255</td>\n",
              "      <td>255</td>\n",
              "      <td>255</td>\n",
              "      <td>255</td>\n",
              "      <td>255</td>\n",
              "      <td>255</td>\n",
              "      <td>255</td>\n",
              "      <td>255</td>\n",
              "    </tr>\n",
              "    <tr>\n",
              "      <th>3</th>\n",
              "      <td>K</td>\n",
              "      <td>255</td>\n",
              "      <td>255</td>\n",
              "      <td>255</td>\n",
              "      <td>255</td>\n",
              "      <td>255</td>\n",
              "      <td>255</td>\n",
              "      <td>255</td>\n",
              "      <td>255</td>\n",
              "      <td>255</td>\n",
              "      <td>...</td>\n",
              "      <td>255</td>\n",
              "      <td>255</td>\n",
              "      <td>255</td>\n",
              "      <td>255</td>\n",
              "      <td>255</td>\n",
              "      <td>255</td>\n",
              "      <td>255</td>\n",
              "      <td>255</td>\n",
              "      <td>255</td>\n",
              "      <td>255</td>\n",
              "    </tr>\n",
              "    <tr>\n",
              "      <th>4</th>\n",
              "      <td>4</td>\n",
              "      <td>255</td>\n",
              "      <td>255</td>\n",
              "      <td>255</td>\n",
              "      <td>255</td>\n",
              "      <td>255</td>\n",
              "      <td>255</td>\n",
              "      <td>255</td>\n",
              "      <td>255</td>\n",
              "      <td>255</td>\n",
              "      <td>...</td>\n",
              "      <td>255</td>\n",
              "      <td>255</td>\n",
              "      <td>255</td>\n",
              "      <td>255</td>\n",
              "      <td>255</td>\n",
              "      <td>255</td>\n",
              "      <td>255</td>\n",
              "      <td>255</td>\n",
              "      <td>255</td>\n",
              "      <td>255</td>\n",
              "    </tr>\n",
              "  </tbody>\n",
              "</table>\n",
              "<p>5 rows × 721 columns</p>\n",
              "</div>\n",
              "    <div class=\"colab-df-buttons\">\n",
              "\n",
              "  <div class=\"colab-df-container\">\n",
              "    <button class=\"colab-df-convert\" onclick=\"convertToInteractive('df-6e29029f-4c4b-41a3-a562-b4a0e381784e')\"\n",
              "            title=\"Convert this dataframe to an interactive table.\"\n",
              "            style=\"display:none;\">\n",
              "\n",
              "  <svg xmlns=\"http://www.w3.org/2000/svg\" height=\"24px\" viewBox=\"0 -960 960 960\">\n",
              "    <path d=\"M120-120v-720h720v720H120Zm60-500h600v-160H180v160Zm220 220h160v-160H400v160Zm0 220h160v-160H400v160ZM180-400h160v-160H180v160Zm440 0h160v-160H620v160ZM180-180h160v-160H180v160Zm440 0h160v-160H620v160Z\"/>\n",
              "  </svg>\n",
              "    </button>\n",
              "\n",
              "  <style>\n",
              "    .colab-df-container {\n",
              "      display:flex;\n",
              "      gap: 12px;\n",
              "    }\n",
              "\n",
              "    .colab-df-convert {\n",
              "      background-color: #E8F0FE;\n",
              "      border: none;\n",
              "      border-radius: 50%;\n",
              "      cursor: pointer;\n",
              "      display: none;\n",
              "      fill: #1967D2;\n",
              "      height: 32px;\n",
              "      padding: 0 0 0 0;\n",
              "      width: 32px;\n",
              "    }\n",
              "\n",
              "    .colab-df-convert:hover {\n",
              "      background-color: #E2EBFA;\n",
              "      box-shadow: 0px 1px 2px rgba(60, 64, 67, 0.3), 0px 1px 3px 1px rgba(60, 64, 67, 0.15);\n",
              "      fill: #174EA6;\n",
              "    }\n",
              "\n",
              "    .colab-df-buttons div {\n",
              "      margin-bottom: 4px;\n",
              "    }\n",
              "\n",
              "    [theme=dark] .colab-df-convert {\n",
              "      background-color: #3B4455;\n",
              "      fill: #D2E3FC;\n",
              "    }\n",
              "\n",
              "    [theme=dark] .colab-df-convert:hover {\n",
              "      background-color: #434B5C;\n",
              "      box-shadow: 0px 1px 3px 1px rgba(0, 0, 0, 0.15);\n",
              "      filter: drop-shadow(0px 1px 2px rgba(0, 0, 0, 0.3));\n",
              "      fill: #FFFFFF;\n",
              "    }\n",
              "  </style>\n",
              "\n",
              "    <script>\n",
              "      const buttonEl =\n",
              "        document.querySelector('#df-6e29029f-4c4b-41a3-a562-b4a0e381784e button.colab-df-convert');\n",
              "      buttonEl.style.display =\n",
              "        google.colab.kernel.accessAllowed ? 'block' : 'none';\n",
              "\n",
              "      async function convertToInteractive(key) {\n",
              "        const element = document.querySelector('#df-6e29029f-4c4b-41a3-a562-b4a0e381784e');\n",
              "        const dataTable =\n",
              "          await google.colab.kernel.invokeFunction('convertToInteractive',\n",
              "                                                    [key], {});\n",
              "        if (!dataTable) return;\n",
              "\n",
              "        const docLinkHtml = 'Like what you see? Visit the ' +\n",
              "          '<a target=\"_blank\" href=https://colab.research.google.com/notebooks/data_table.ipynb>data table notebook</a>'\n",
              "          + ' to learn more about interactive tables.';\n",
              "        element.innerHTML = '';\n",
              "        dataTable['output_type'] = 'display_data';\n",
              "        await google.colab.output.renderOutput(dataTable, element);\n",
              "        const docLink = document.createElement('div');\n",
              "        docLink.innerHTML = docLinkHtml;\n",
              "        element.appendChild(docLink);\n",
              "      }\n",
              "    </script>\n",
              "  </div>\n",
              "\n",
              "\n",
              "    <div id=\"df-3b9892f9-4a2b-4433-a0af-21f058db91ac\">\n",
              "      <button class=\"colab-df-quickchart\" onclick=\"quickchart('df-3b9892f9-4a2b-4433-a0af-21f058db91ac')\"\n",
              "                title=\"Suggest charts\"\n",
              "                style=\"display:none;\">\n",
              "\n",
              "<svg xmlns=\"http://www.w3.org/2000/svg\" height=\"24px\"viewBox=\"0 0 24 24\"\n",
              "     width=\"24px\">\n",
              "    <g>\n",
              "        <path d=\"M19 3H5c-1.1 0-2 .9-2 2v14c0 1.1.9 2 2 2h14c1.1 0 2-.9 2-2V5c0-1.1-.9-2-2-2zM9 17H7v-7h2v7zm4 0h-2V7h2v10zm4 0h-2v-4h2v4z\"/>\n",
              "    </g>\n",
              "</svg>\n",
              "      </button>\n",
              "\n",
              "<style>\n",
              "  .colab-df-quickchart {\n",
              "      --bg-color: #E8F0FE;\n",
              "      --fill-color: #1967D2;\n",
              "      --hover-bg-color: #E2EBFA;\n",
              "      --hover-fill-color: #174EA6;\n",
              "      --disabled-fill-color: #AAA;\n",
              "      --disabled-bg-color: #DDD;\n",
              "  }\n",
              "\n",
              "  [theme=dark] .colab-df-quickchart {\n",
              "      --bg-color: #3B4455;\n",
              "      --fill-color: #D2E3FC;\n",
              "      --hover-bg-color: #434B5C;\n",
              "      --hover-fill-color: #FFFFFF;\n",
              "      --disabled-bg-color: #3B4455;\n",
              "      --disabled-fill-color: #666;\n",
              "  }\n",
              "\n",
              "  .colab-df-quickchart {\n",
              "    background-color: var(--bg-color);\n",
              "    border: none;\n",
              "    border-radius: 50%;\n",
              "    cursor: pointer;\n",
              "    display: none;\n",
              "    fill: var(--fill-color);\n",
              "    height: 32px;\n",
              "    padding: 0;\n",
              "    width: 32px;\n",
              "  }\n",
              "\n",
              "  .colab-df-quickchart:hover {\n",
              "    background-color: var(--hover-bg-color);\n",
              "    box-shadow: 0 1px 2px rgba(60, 64, 67, 0.3), 0 1px 3px 1px rgba(60, 64, 67, 0.15);\n",
              "    fill: var(--button-hover-fill-color);\n",
              "  }\n",
              "\n",
              "  .colab-df-quickchart-complete:disabled,\n",
              "  .colab-df-quickchart-complete:disabled:hover {\n",
              "    background-color: var(--disabled-bg-color);\n",
              "    fill: var(--disabled-fill-color);\n",
              "    box-shadow: none;\n",
              "  }\n",
              "\n",
              "  .colab-df-spinner {\n",
              "    border: 2px solid var(--fill-color);\n",
              "    border-color: transparent;\n",
              "    border-bottom-color: var(--fill-color);\n",
              "    animation:\n",
              "      spin 1s steps(1) infinite;\n",
              "  }\n",
              "\n",
              "  @keyframes spin {\n",
              "    0% {\n",
              "      border-color: transparent;\n",
              "      border-bottom-color: var(--fill-color);\n",
              "      border-left-color: var(--fill-color);\n",
              "    }\n",
              "    20% {\n",
              "      border-color: transparent;\n",
              "      border-left-color: var(--fill-color);\n",
              "      border-top-color: var(--fill-color);\n",
              "    }\n",
              "    30% {\n",
              "      border-color: transparent;\n",
              "      border-left-color: var(--fill-color);\n",
              "      border-top-color: var(--fill-color);\n",
              "      border-right-color: var(--fill-color);\n",
              "    }\n",
              "    40% {\n",
              "      border-color: transparent;\n",
              "      border-right-color: var(--fill-color);\n",
              "      border-top-color: var(--fill-color);\n",
              "    }\n",
              "    60% {\n",
              "      border-color: transparent;\n",
              "      border-right-color: var(--fill-color);\n",
              "    }\n",
              "    80% {\n",
              "      border-color: transparent;\n",
              "      border-right-color: var(--fill-color);\n",
              "      border-bottom-color: var(--fill-color);\n",
              "    }\n",
              "    90% {\n",
              "      border-color: transparent;\n",
              "      border-bottom-color: var(--fill-color);\n",
              "    }\n",
              "  }\n",
              "</style>\n",
              "\n",
              "      <script>\n",
              "        async function quickchart(key) {\n",
              "          const quickchartButtonEl =\n",
              "            document.querySelector('#' + key + ' button');\n",
              "          quickchartButtonEl.disabled = true;  // To prevent multiple clicks.\n",
              "          quickchartButtonEl.classList.add('colab-df-spinner');\n",
              "          try {\n",
              "            const charts = await google.colab.kernel.invokeFunction(\n",
              "                'suggestCharts', [key], {});\n",
              "          } catch (error) {\n",
              "            console.error('Error during call to suggestCharts:', error);\n",
              "          }\n",
              "          quickchartButtonEl.classList.remove('colab-df-spinner');\n",
              "          quickchartButtonEl.classList.add('colab-df-quickchart-complete');\n",
              "        }\n",
              "        (() => {\n",
              "          let quickchartButtonEl =\n",
              "            document.querySelector('#df-3b9892f9-4a2b-4433-a0af-21f058db91ac button');\n",
              "          quickchartButtonEl.style.display =\n",
              "            google.colab.kernel.accessAllowed ? 'block' : 'none';\n",
              "        })();\n",
              "      </script>\n",
              "    </div>\n",
              "\n",
              "    </div>\n",
              "  </div>\n"
            ],
            "application/vnd.google.colaboratory.intrinsic+json": {
              "type": "dataframe",
              "variable_name": "df"
            }
          },
          "metadata": {},
          "execution_count": 8
        }
      ]
    },
    {
      "cell_type": "markdown",
      "source": [
        "This step helps to identify if any characters are missing from the dataset, which is important for making sure the model is trained to recognize the complete set of CAPTCHA characters."
      ],
      "metadata": {
        "id": "ugAiD8gndMSm"
      }
    },
    {
      "cell_type": "code",
      "source": [
        "print(df.shape)           # Rows and columns\n",
        "print(df[\"label\"].value_counts())  # Class distribution"
      ],
      "metadata": {
        "colab": {
          "base_uri": "https://localhost:8080/"
        },
        "id": "TvQt2Nyflh30",
        "outputId": "69b3fe67-1552-47b7-b721-96270c4196e1"
      },
      "execution_count": 9,
      "outputs": [
        {
          "output_type": "stream",
          "name": "stdout",
          "text": [
            "(120, 721)\n",
            "label\n",
            "E    6\n",
            "O    6\n",
            "V    6\n",
            "G    5\n",
            "2    5\n",
            "M    5\n",
            "1    5\n",
            "Q    5\n",
            "D    5\n",
            "Z    5\n",
            "A    4\n",
            "H    4\n",
            "W    4\n",
            "C    4\n",
            "S    4\n",
            "9    4\n",
            "7    4\n",
            "K    3\n",
            "J    3\n",
            "R    3\n",
            "B    3\n",
            "5    3\n",
            "Y    2\n",
            "I    2\n",
            "4    2\n",
            "L    2\n",
            "3    2\n",
            "6    2\n",
            "0    2\n",
            "U    2\n",
            "T    2\n",
            "X    2\n",
            "N    1\n",
            "P    1\n",
            "8    1\n",
            "F    1\n",
            "Name: count, dtype: int64\n"
          ]
        }
      ]
    },
    {
      "cell_type": "code",
      "source": [
        "import string\n",
        "\n",
        "expected_chars = list(string.ascii_uppercase) + [str(i) for i in range(1, 10)]\n",
        "print(\"Expected characters:\", expected_chars)\n",
        "\n",
        "actual_chars = sorted(df['label'].unique())\n",
        "print(\"Characters in dataset:\", actual_chars)\n",
        "\n",
        "missing_chars = sorted(set(expected_chars) - set(actual_chars))\n",
        "print(\"Missing characters:\", missing_chars)"
      ],
      "metadata": {
        "colab": {
          "base_uri": "https://localhost:8080/"
        },
        "id": "fgM-F-MAl28f",
        "outputId": "6f9f0191-9242-4b4b-a263-07498112818c"
      },
      "execution_count": 10,
      "outputs": [
        {
          "output_type": "stream",
          "name": "stdout",
          "text": [
            "Expected characters: ['A', 'B', 'C', 'D', 'E', 'F', 'G', 'H', 'I', 'J', 'K', 'L', 'M', 'N', 'O', 'P', 'Q', 'R', 'S', 'T', 'U', 'V', 'W', 'X', 'Y', 'Z', '1', '2', '3', '4', '5', '6', '7', '8', '9']\n",
            "Characters in dataset: ['0', '1', '2', '3', '4', '5', '6', '7', '8', '9', 'A', 'B', 'C', 'D', 'E', 'F', 'G', 'H', 'I', 'J', 'K', 'L', 'M', 'N', 'O', 'P', 'Q', 'R', 'S', 'T', 'U', 'V', 'W', 'X', 'Y', 'Z']\n",
            "Missing characters: []\n"
          ]
        }
      ]
    },
    {
      "cell_type": "markdown",
      "source": [
        "This step identifies and removes pixels that are always white (with a value of 255) across all character images in the dataset. Such pixels do not provide useful information for distinguishing characters, but they increase the feature dimensionality and computational cost unnecessarily. By filtering out these consistently white pixels, I reduce the input size, which can improve model training efficiency and potentially enhance generalization by focusing on informative features. The boolean mask indicating these pixels is saved as a **always_white_mask.pkl** file to ensure consistent preprocessing during inference on new images.\n",
        "\n"
      ],
      "metadata": {
        "id": "dOOsckaomzkm"
      }
    },
    {
      "cell_type": "code",
      "source": [
        "import numpy as np\n",
        "\n",
        "# All pixel columns\n",
        "pixels = df.drop(columns=[\"label\"]).values\n",
        "\n",
        "# Number of pixels\n",
        "n_pixels = pixels.shape[1]\n",
        "\n",
        "# Identify columns that are always 255 (pure white)\n",
        "always_white_mask = (pixels == 255).all(axis=0)\n",
        "num_always_white = np.sum(always_white_mask)\n",
        "\n",
        "print(f\"{num_always_white} / {n_pixels} pixels are always white.\")\n"
      ],
      "metadata": {
        "colab": {
          "base_uri": "https://localhost:8080/"
        },
        "id": "9gN6gXXGmBBU",
        "outputId": "0975a55a-a69f-4358-a91a-1b98713098e2"
      },
      "execution_count": 11,
      "outputs": [
        {
          "output_type": "stream",
          "name": "stdout",
          "text": [
            "480 / 720 pixels are always white.\n"
          ]
        }
      ]
    },
    {
      "cell_type": "code",
      "source": [
        "X = df.drop(columns=[\"label\"]).values\n",
        "y = df[\"label\"].values"
      ],
      "metadata": {
        "id": "KXgiZbOkmsDr"
      },
      "execution_count": 12,
      "outputs": []
    },
    {
      "cell_type": "code",
      "source": [
        "import joblib\n",
        "\n",
        "# Compute which pixels are always white\n",
        "always_white_mask = (X == 255).all(axis=0)\n",
        "joblib.dump(always_white_mask, 'always_white_mask.pkl')\n",
        "\n",
        "# Filter them out\n",
        "X_filtered = X[:, ~always_white_mask]\n",
        "\n",
        "print(f\"Original: {X.shape}, After removal: {X_filtered.shape}\")\n"
      ],
      "metadata": {
        "colab": {
          "base_uri": "https://localhost:8080/"
        },
        "id": "RqDeUFUhmmw4",
        "outputId": "ca944b9c-6aa5-4afd-f6a7-979bb045ff8d"
      },
      "execution_count": 14,
      "outputs": [
        {
          "output_type": "stream",
          "name": "stdout",
          "text": [
            "Original: (120, 720), After removal: (120, 240)\n"
          ]
        }
      ]
    },
    {
      "cell_type": "markdown",
      "source": [
        "PCA (Principal Component Analysis) is used here to reduce the high-dimensional pixel data to two principal components, enabling visualization of character clusters. This helps to understand how well different characters separate in feature space, identify any overlaps or ambiguities, and assess data quality. Such insights guide feature engineering and model development decisions."
      ],
      "metadata": {
        "id": "v99XkTNyoiRd"
      }
    },
    {
      "cell_type": "code",
      "source": [
        "import numpy as np\n",
        "import matplotlib.pyplot as plt\n",
        "from sklearn.decomposition import PCA\n",
        "import seaborn as sns\n",
        "\n",
        "labels = sorted(df['label'].unique())\n",
        "chunk_size = 7\n",
        "\n",
        "label_chunks = [labels[i:i+chunk_size] for i in range(0, len(labels), chunk_size)]\n",
        "\n"
      ],
      "metadata": {
        "id": "FyTxZ_uMn8vT"
      },
      "execution_count": 8,
      "outputs": []
    },
    {
      "cell_type": "code",
      "source": [
        "X = df.drop(columns=[\"label\"]).values  # features\n",
        "y = df[\"label\"].values\n",
        "\n",
        "pca = PCA(n_components=2)\n",
        "X_pca = pca.fit_transform(X)\n",
        "\n",
        "for chunk in label_chunks:\n",
        "    idx = np.isin(y, chunk)\n",
        "    plt.figure(figsize=(8,6))\n",
        "    sns.scatterplot(\n",
        "        x=X_pca[idx, 0], y=X_pca[idx, 1],\n",
        "        hue=y[idx], palette='tab10', s=50\n",
        "    )\n",
        "    plt.title(f\"PCA plot for labels: {', '.join(chunk)}\")\n",
        "    plt.legend(title=\"Label\", bbox_to_anchor=(1.05, 1), loc='upper left')\n",
        "    plt.xlabel(\"PC1\")\n",
        "    plt.ylabel(\"PC2\")\n",
        "    plt.tight_layout()\n",
        "    plt.show()\n"
      ],
      "metadata": {
        "colab": {
          "base_uri": "https://localhost:8080/",
          "height": 1000
        },
        "id": "JcQpONs0oTBg",
        "outputId": "f1e2d0a5-9d59-4501-f347-8c5f3a95027c"
      },
      "execution_count": 9,
      "outputs": [
        {
          "output_type": "display_data",
          "data": {
            "text/plain": [
              "<Figure size 800x600 with 1 Axes>"
            ],
            "image/png": "[encoded data removed]"
          },
          "metadata": {}
        },
        {
          "output_type": "display_data",
          "data": {
            "text/plain": [
              "<Figure size 800x600 with 1 Axes>"
            ],
            "image/png": "[encoded data removed]"
          },
          "metadata": {}
        },
        {
          "output_type": "display_data",
          "data": {
            "text/plain": [
              "<Figure size 800x600 with 1 Axes>"
            ],
            "image/png": "[encoded data removed]"
          },
          "metadata": {}
        },
        {
          "output_type": "display_data",
          "data": {
            "text/plain": [
              "<Figure size 800x600 with 1 Axes>"
            ],
            "image/png": "[encoded data removed]"
          },
          "metadata": {}
        },
        {
          "output_type": "display_data",
          "data": {
            "text/plain": [
              "<Figure size 800x600 with 1 Axes>"
            ],
            "image/png": "[encoded data removed]"
          },
          "metadata": {}
        },
        {
          "output_type": "display_data",
          "data": {
            "text/plain": [
              "<Figure size 800x600 with 1 Axes>"
            ],
            "image/png": "[encoded data removed]"
          },
          "metadata": {}
        }
      ]
    },
    {
      "cell_type": "markdown",
      "source": [
        "## Train Model: Random Forest Classifier for Multi-Class Character Recognition"
      ],
      "metadata": {
        "id": "CeEbaRvconLq"
      }
    },
    {
      "cell_type": "code",
      "source": [
        "X_filtered.shape"
      ],
      "metadata": {
        "colab": {
          "base_uri": "https://localhost:8080/"
        },
        "id": "hnpD2t-Xomie",
        "outputId": "269580ec-de21-45a4-d8b7-b2fab150ffb9"
      },
      "execution_count": 15,
      "outputs": [
        {
          "output_type": "execute_result",
          "data": {
            "text/plain": [
              "(120, 240)"
            ]
          },
          "metadata": {},
          "execution_count": 15
        }
      ]
    },
    {
      "cell_type": "code",
      "source": [
        "y.shape"
      ],
      "metadata": {
        "colab": {
          "base_uri": "https://localhost:8080/"
        },
        "id": "1mHdsCKo5gfa",
        "outputId": "d192f402-5c73-47bb-b0f0-fe94fc07ae10"
      },
      "execution_count": 16,
      "outputs": [
        {
          "output_type": "execute_result",
          "data": {
            "text/plain": [
              "(120,)"
            ]
          },
          "metadata": {},
          "execution_count": 16
        }
      ]
    },
    {
      "cell_type": "markdown",
      "source": [
        "To effectively handle class imbalance, a custom split_and_safe_smote function was designed that first identifies singleton classes with only one sample and excludes them from stratified splitting to avoid errors, since stratification requires each class to appear in both train and test sets. I perform stratified splitting only on classes with sufficient samples to ensure representative distributions, then add the singleton samples exclusively back to the training set, as they cannot be reliably evaluated in testing. Within the training set, classes with fewer than k_neighbors + 1 samples are marked as rare and excluded from SMOTE oversampling to prevent unrealistic synthetic data generation. SMOTE is applied only to common classes with enough samples, dynamically adjusting the k_neighbors parameter to avoid runtime errors and ensure valid neighbor selection. Finally, the SMOTE-resampled common class samples are combined with the untouched rare classes to create a balanced training dataset while preserving rare class integrity. This careful approach balances robust training with realistic testing, improving model generalization and reliability.\n",
        "\n"
      ],
      "metadata": {
        "id": "9jn3xzwHg5Lz"
      }
    },
    {
      "cell_type": "code",
      "source": [
        "from sklearn.model_selection import train_test_split\n",
        "from imblearn.over_sampling import SMOTE\n",
        "import pandas as pd\n",
        "import numpy as np\n",
        "\n",
        "def split_and_safe_smote(X, y, test_size=0.3, random_state=42, k_neighbors=5):\n",
        "    \"\"\"\n",
        "    Splits the data and applies SMOTE to training data, excluding rare classes\n",
        "    and handling classes with only 1 sample.\n",
        "\n",
        "    Returns:\n",
        "        X_train_resampled, X_test, y_train_resampled, y_test\n",
        "    \"\"\"\n",
        "    if isinstance(X, np.ndarray):\n",
        "        X = pd.DataFrame(X)\n",
        "    if isinstance(y, np.ndarray):\n",
        "        y = pd.Series(y)\n",
        "\n",
        "    # Identify classes with only 1 sample\n",
        "    value_counts = y.value_counts()\n",
        "    singleton_classes = value_counts[value_counts == 1].index.tolist()\n",
        "\n",
        "    # Separate singleton samples\n",
        "    X_singleton = X[y.isin(singleton_classes)]\n",
        "    y_singleton = y[y.isin(singleton_classes)]\n",
        "\n",
        "    # Rest of the data\n",
        "    X_rest = X[~y.isin(singleton_classes)]\n",
        "    y_rest = y[~y.isin(singleton_classes)]\n",
        "\n",
        "    # Stratified split on the rest\n",
        "    X_train, X_test, y_train, y_test = train_test_split(\n",
        "        X_rest, y_rest, test_size=test_size, stratify=y_rest, random_state=random_state\n",
        "    )\n",
        "\n",
        "    # Add singleton samples to the training set\n",
        "    X_train = pd.concat([X_train, X_singleton], ignore_index=True)\n",
        "    y_train = pd.concat([y_train, y_singleton], ignore_index=True)\n",
        "\n",
        "    # Find rare classes in training set for SMOTE\n",
        "    train_label_counts = y_train.value_counts()\n",
        "    rare_classes = train_label_counts[train_label_counts < k_neighbors + 1].index.tolist()\n",
        "\n",
        "    X_train_common = X_train[~y_train.isin(rare_classes)]\n",
        "    y_train_common = y_train[~y_train.isin(rare_classes)]\n",
        "\n",
        "    X_train_rare = X_train[y_train.isin(rare_classes)]\n",
        "    y_train_rare = y_train[y_train.isin(rare_classes)]\n",
        "\n",
        "    # Apply SMOTE only if there is enough common samples\n",
        "    if len(X_train_common) > 0:\n",
        "        smote = SMOTE(k_neighbors=min(k_neighbors, len(X_train_common)-1), random_state=random_state)\n",
        "        X_common_resampled, y_common_resampled = smote.fit_resample(X_train_common, y_train_common)\n",
        "\n",
        "        # Combine back with rare classes\n",
        "        X_train_resampled = pd.concat([pd.DataFrame(X_common_resampled), X_train_rare], ignore_index=True)\n",
        "        y_train_resampled = pd.concat([pd.Series(y_common_resampled), y_train_rare], ignore_index=True)\n",
        "    else:\n",
        "        print(\"Warning: No common classes available for SMOTE. Skipping SMOTE.\")\n",
        "        X_train_resampled = X_train.reset_index(drop=True)\n",
        "        y_train_resampled = y_train.reset_index(drop=True)\n",
        "\n",
        "    return X_train_resampled, X_test.reset_index(drop=True), y_train_resampled, y_test.reset_index(drop=True)\n"
      ],
      "metadata": {
        "id": "Rh3lO91K7Rjx"
      },
      "execution_count": 17,
      "outputs": []
    },
    {
      "cell_type": "code",
      "source": [
        "X_train, X_test, y_train, y_test = split_and_safe_smote(X_filtered, y)\n"
      ],
      "metadata": {
        "colab": {
          "base_uri": "https://localhost:8080/"
        },
        "id": "n_CS07Ec7Uh5",
        "outputId": "2b7fbe53-dc54-49d1-c576-786ac24b23b9"
      },
      "execution_count": 51,
      "outputs": [
        {
          "output_type": "stream",
          "name": "stdout",
          "text": [
            "Warning: No common classes available for SMOTE. Skipping SMOTE.\n"
          ]
        }
      ]
    },
    {
      "cell_type": "markdown",
      "source": [
        "The dataset was split into training and testing sets with a 70:30 ratio to provide ample data for model learning while retaining a sufficient portion for unbiased evaluation. A Random Forest model was chosen because it handles high-dimensional pixel data effectively, is robust to noise, and mitigates overfitting through ensemble averaging. Importantly, Random Forests perform well with imbalanced datasets and can naturally handle multiple classes without requiring extensive preprocessing. These characteristics make it a strong choice for the multi-class CAPTCHA recognition problem with class imbalance. After training on the 70% split, the model’s accuracy and classification metrics were evaluated on the test set to measure its effectiveness in recognizing diverse CAPTCHA characters."
      ],
      "metadata": {
        "id": "lB8ztovbiGc2"
      }
    },
    {
      "cell_type": "code",
      "source": [
        "print(X_train.shape)\n",
        "print(X_test.shape)\n",
        "print(y_train.shape)\n",
        "print(y_test.shape)"
      ],
      "metadata": {
        "colab": {
          "base_uri": "https://localhost:8080/"
        },
        "id": "6iog3xI3IKVK",
        "outputId": "6ed2e783-07d1-4451-ed0d-68d4f290c48b"
      },
      "execution_count": 27,
      "outputs": [
        {
          "output_type": "stream",
          "name": "stdout",
          "text": [
            "(85, 240)\n",
            "(35, 240)\n",
            "(85,)\n",
            "(35,)\n"
          ]
        }
      ]
    },
    {
      "cell_type": "code",
      "source": [
        "from sklearn.ensemble import RandomForestClassifier\n",
        "from sklearn.metrics import classification_report, accuracy_score\n",
        "import numpy as np\n",
        "\n",
        "# Initialize model\n",
        "rf = RandomForestClassifier(random_state=42)\n",
        "\n",
        "# Train\n",
        "rf.fit(X_train, y_train)\n",
        "\n",
        "# Predict\n",
        "y_pred = rf.predict(X_test)\n",
        "\n",
        "# Evaluate\n",
        "print(\"Accuracy:\", accuracy_score(y_test, y_pred))\n",
        "print(\"Classification Report:\\n\", classification_report(y_test, y_pred, zero_division=0))"
      ],
      "metadata": {
        "colab": {
          "base_uri": "https://localhost:8080/"
        },
        "id": "qImXEJm0IQvB",
        "outputId": "c0971b0d-84f4-437b-9985-d169253574f6"
      },
      "execution_count": 30,
      "outputs": [
        {
          "output_type": "stream",
          "name": "stdout",
          "text": [
            "Accuracy: 0.9428571428571428\n",
            "Classification Report:\n",
            "               precision    recall  f1-score   support\n",
            "\n",
            "           0       1.00      1.00      1.00         1\n",
            "           1       0.33      1.00      0.50         1\n",
            "           2       1.00      1.00      1.00         1\n",
            "           3       1.00      1.00      1.00         1\n",
            "           4       1.00      1.00      1.00         1\n",
            "           5       1.00      1.00      1.00         1\n",
            "           6       1.00      1.00      1.00         1\n",
            "           7       1.00      1.00      1.00         1\n",
            "           9       1.00      1.00      1.00         1\n",
            "           A       1.00      1.00      1.00         1\n",
            "           B       1.00      1.00      1.00         1\n",
            "           C       1.00      1.00      1.00         1\n",
            "           D       1.00      1.00      1.00         1\n",
            "           E       1.00      1.00      1.00         2\n",
            "           G       1.00      1.00      1.00         1\n",
            "           H       1.00      1.00      1.00         1\n",
            "           I       0.00      0.00      0.00         1\n",
            "           J       1.00      1.00      1.00         1\n",
            "           K       1.00      1.00      1.00         1\n",
            "           L       1.00      1.00      1.00         1\n",
            "           M       1.00      1.00      1.00         1\n",
            "           O       1.00      1.00      1.00         2\n",
            "           Q       1.00      1.00      1.00         1\n",
            "           R       1.00      1.00      1.00         1\n",
            "           S       1.00      1.00      1.00         1\n",
            "           T       0.00      0.00      0.00         1\n",
            "           U       1.00      1.00      1.00         1\n",
            "           V       1.00      1.00      1.00         2\n",
            "           W       1.00      1.00      1.00         1\n",
            "           X       1.00      1.00      1.00         1\n",
            "           Y       1.00      1.00      1.00         1\n",
            "           Z       1.00      1.00      1.00         1\n",
            "\n",
            "    accuracy                           0.94        35\n",
            "   macro avg       0.92      0.94      0.92        35\n",
            "weighted avg       0.92      0.94      0.93        35\n",
            "\n"
          ]
        }
      ]
    },
    {
      "cell_type": "markdown",
      "source": [
        "After training the Random Forest model on the 70% training split and predicting on the 30% test set, multiple evaluation metrics were used to comprehensively assess model performance. Accuracy provides a basic overall correctness measure, but since the dataset contains class imbalance, additional metrics were necessary. The classification report details precision, recall, and F1 scores per class, with zero_division=0 handling rare classes that might have no predicted samples. Weighted F1 score accounts for class imbalance by weighting each class’s F1 by its support, reflecting overall performance more fairly. Macro F1 score treats all classes equally, highlighting performance on minority classes. Balanced accuracy averages recall over all classes, mitigating the bias toward majority classes. Together, these metrics give a robust view of how well the model recognizes both common and rare CAPTCHA characters."
      ],
      "metadata": {
        "id": "uq0cM2gBimZ6"
      }
    },
    {
      "cell_type": "code",
      "source": [
        "from sklearn.metrics import (\n",
        "    accuracy_score,\n",
        "    classification_report,\n",
        "    f1_score,\n",
        "    balanced_accuracy_score\n",
        ")\n",
        "\n",
        "print(\"Accuracy:\", accuracy_score(y_test, y_pred))\n",
        "\n",
        "print(\"\\nClassification Report (zero_division=0 to handle rare classes):\")\n",
        "print(classification_report(y_test, y_pred, zero_division=0))\n",
        "\n",
        "weighted_f1 = f1_score(y_test, y_pred, average='weighted', zero_division=0)\n",
        "print(\"Weighted F1 Score:\", weighted_f1)\n",
        "\n",
        "macro_f1 = f1_score(y_test, y_pred, average='macro', zero_division=0)\n",
        "print(\"Macro F1 Score:\", macro_f1)\n",
        "\n",
        "balanced_acc = balanced_accuracy_score(y_test, y_pred)\n",
        "print(\"Balanced Accuracy:\", balanced_acc)\n"
      ],
      "metadata": {
        "colab": {
          "base_uri": "https://localhost:8080/"
        },
        "id": "515WqIz4Qeii",
        "outputId": "546199b0-d243-4fe3-c5ee-7b87befe98ef"
      },
      "execution_count": 31,
      "outputs": [
        {
          "output_type": "stream",
          "name": "stdout",
          "text": [
            "Accuracy: 0.9428571428571428\n",
            "\n",
            "Classification Report (zero_division=0 to handle rare classes):\n",
            "              precision    recall  f1-score   support\n",
            "\n",
            "           0       1.00      1.00      1.00         1\n",
            "           1       0.33      1.00      0.50         1\n",
            "           2       1.00      1.00      1.00         1\n",
            "           3       1.00      1.00      1.00         1\n",
            "           4       1.00      1.00      1.00         1\n",
            "           5       1.00      1.00      1.00         1\n",
            "           6       1.00      1.00      1.00         1\n",
            "           7       1.00      1.00      1.00         1\n",
            "           9       1.00      1.00      1.00         1\n",
            "           A       1.00      1.00      1.00         1\n",
            "           B       1.00      1.00      1.00         1\n",
            "           C       1.00      1.00      1.00         1\n",
            "           D       1.00      1.00      1.00         1\n",
            "           E       1.00      1.00      1.00         2\n",
            "           G       1.00      1.00      1.00         1\n",
            "           H       1.00      1.00      1.00         1\n",
            "           I       0.00      0.00      0.00         1\n",
            "           J       1.00      1.00      1.00         1\n",
            "           K       1.00      1.00      1.00         1\n",
            "           L       1.00      1.00      1.00         1\n",
            "           M       1.00      1.00      1.00         1\n",
            "           O       1.00      1.00      1.00         2\n",
            "           Q       1.00      1.00      1.00         1\n",
            "           R       1.00      1.00      1.00         1\n",
            "           S       1.00      1.00      1.00         1\n",
            "           T       0.00      0.00      0.00         1\n",
            "           U       1.00      1.00      1.00         1\n",
            "           V       1.00      1.00      1.00         2\n",
            "           W       1.00      1.00      1.00         1\n",
            "           X       1.00      1.00      1.00         1\n",
            "           Y       1.00      1.00      1.00         1\n",
            "           Z       1.00      1.00      1.00         1\n",
            "\n",
            "    accuracy                           0.94        35\n",
            "   macro avg       0.92      0.94      0.92        35\n",
            "weighted avg       0.92      0.94      0.93        35\n",
            "\n",
            "Weighted F1 Score: 0.9285714285714286\n",
            "Macro F1 Score: 0.921875\n",
            "Balanced Accuracy: 0.9375\n"
          ]
        }
      ]
    },
    {
      "cell_type": "markdown",
      "source": [
        "I optimized the Random Forest model using GridSearchCV to find the best hyperparameters, including the number of trees (n_estimators), tree depth (max_depth), minimum samples to split nodes (min_samples_split), minimum samples per leaf (min_samples_leaf), and the number of features considered at each split (max_features). These choices balance model complexity and overfitting risk while ensuring computational efficiency.\n",
        "\n",
        "Weighted F1 score was used as the primary tuning metric because it accounts for class imbalance by weighting precision and recall according to class frequency, which is crucial in our multi-class, imbalanced dataset. After tuning with 2-fold cross-validation, the best model was selected and evaluated on the test set using accuracy, weighted F1, and balanced accuracy to comprehensively measure performance across all classes."
      ],
      "metadata": {
        "id": "OpQq3VqZQ1p0"
      }
    },
    {
      "cell_type": "code",
      "source": [
        "from sklearn.ensemble import RandomForestClassifier\n",
        "from sklearn.model_selection import GridSearchCV\n",
        "from sklearn.metrics import f1_score, balanced_accuracy_score, classification_report, accuracy_score\n",
        "\n",
        "# Parameter grid to tune\n",
        "param_grid = {\n",
        "    'n_estimators': [100, 200],          # number of trees\n",
        "    'max_depth': [None, 10, 20],         # max tree depth\n",
        "    'min_samples_split': [2, 5],         # minimum samples to split\n",
        "    'min_samples_leaf': [1, 2],          # minimum samples at leaf node\n",
        "    'max_features': ['auto', 'sqrt']     # number of features considered for split\n",
        "}\n",
        "\n",
        "# Initialize Random Forest\n",
        "rf = RandomForestClassifier(random_state=42)\n",
        "\n",
        "# Setup GridSearchCV\n",
        "grid_search = GridSearchCV(\n",
        "    estimator=rf,\n",
        "    param_grid=param_grid,\n",
        "    scoring='f1_weighted',  # use weighted F1 for evaluation during tuning\n",
        "    cv=2,\n",
        "    n_jobs=-1,\n",
        "    verbose=2\n",
        ")\n",
        "\n",
        "# Run grid search on training data\n",
        "grid_search.fit(X_train, y_train)\n",
        "\n",
        "print(\"Best parameters found:\", grid_search.best_params_)\n",
        "\n",
        "# Best model from grid search\n",
        "best_rf = grid_search.best_estimator_\n",
        "\n",
        "# Predict on test set\n",
        "y_pred = best_rf.predict(X_test)\n",
        "\n",
        "# Evaluate metrics on test data\n",
        "acc = accuracy_score(y_test, y_pred)\n",
        "weighted_f1 = f1_score(y_test, y_pred, average='weighted', zero_division=0)\n",
        "balanced_acc = balanced_accuracy_score(y_test, y_pred)\n",
        "\n",
        "print(f\"\\nTest Accuracy: {acc:.4f}\")\n",
        "print(f\"Test Weighted F1 Score: {weighted_f1:.4f}\")\n",
        "print(f\"Test Balanced Accuracy: {balanced_acc:.4f}\")\n",
        "\n",
        "print(\"\\nClassification Report:\")\n",
        "print(classification_report(y_test, y_pred, zero_division=0))\n"
      ],
      "metadata": {
        "colab": {
          "base_uri": "https://localhost:8080/"
        },
        "id": "UKbHwXPiQ5Z7",
        "outputId": "8d5bec94-0d45-49e1-f398-310ff5e87e13"
      },
      "execution_count": 34,
      "outputs": [
        {
          "output_type": "stream",
          "name": "stdout",
          "text": [
            "Fitting 2 folds for each of 48 candidates, totalling 96 fits\n"
          ]
        },
        {
          "output_type": "stream",
          "name": "stderr",
          "text": [
            "/usr/local/lib/python3.11/dist-packages/sklearn/model_selection/_split.py:805: UserWarning: The least populated class in y has only 1 members, which is less than n_splits=2.\n",
            "  warnings.warn(\n",
            "/usr/local/lib/python3.11/dist-packages/sklearn/model_selection/_validation.py:528: FitFailedWarning: \n",
            "48 fits failed out of a total of 96.\n",
            "The score on these train-test partitions for these parameters will be set to nan.\n",
            "If these failures are not expected, you can try to debug them by setting error_score='raise'.\n",
            "\n",
            "Below are more details about the failures:\n",
            "--------------------------------------------------------------------------------\n",
            "35 fits failed with the following error:\n",
            "Traceback (most recent call last):\n",
            "  File \"/usr/local/lib/python3.11/dist-packages/sklearn/model_selection/_validation.py\", line 866, in _fit_and_score\n",
            "    estimator.fit(X_train, y_train, **fit_params)\n",
            "  File \"/usr/local/lib/python3.11/dist-packages/sklearn/base.py\", line 1382, in wrapper\n",
            "    estimator._validate_params()\n",
            "  File \"/usr/local/lib/python3.11/dist-packages/sklearn/base.py\", line 436, in _validate_params\n",
            "    validate_parameter_constraints(\n",
            "  File \"/usr/local/lib/python3.11/dist-packages/sklearn/utils/_param_validation.py\", line 98, in validate_parameter_constraints\n",
            "    raise InvalidParameterError(\n",
            "sklearn.utils._param_validation.InvalidParameterError: The 'max_features' parameter of RandomForestClassifier must be an int in the range [1, inf), a float in the range (0.0, 1.0], a str among {'log2', 'sqrt'} or None. Got 'auto' instead.\n",
            "\n",
            "--------------------------------------------------------------------------------\n",
            "13 fits failed with the following error:\n",
            "Traceback (most recent call last):\n",
            "  File \"/usr/local/lib/python3.11/dist-packages/sklearn/model_selection/_validation.py\", line 866, in _fit_and_score\n",
            "    estimator.fit(X_train, y_train, **fit_params)\n",
            "  File \"/usr/local/lib/python3.11/dist-packages/sklearn/base.py\", line 1382, in wrapper\n",
            "    estimator._validate_params()\n",
            "  File \"/usr/local/lib/python3.11/dist-packages/sklearn/base.py\", line 436, in _validate_params\n",
            "    validate_parameter_constraints(\n",
            "  File \"/usr/local/lib/python3.11/dist-packages/sklearn/utils/_param_validation.py\", line 98, in validate_parameter_constraints\n",
            "    raise InvalidParameterError(\n",
            "sklearn.utils._param_validation.InvalidParameterError: The 'max_features' parameter of RandomForestClassifier must be an int in the range [1, inf), a float in the range (0.0, 1.0], a str among {'sqrt', 'log2'} or None. Got 'auto' instead.\n",
            "\n",
            "  warnings.warn(some_fits_failed_message, FitFailedWarning)\n",
            "/usr/local/lib/python3.11/dist-packages/sklearn/model_selection/_search.py:1108: UserWarning: One or more of the test scores are non-finite: [       nan        nan        nan        nan        nan        nan\n",
            "        nan        nan 0.72645151 0.72021305 0.53834968 0.58448294\n",
            " 0.53638401 0.56811159 0.48911565 0.51811159        nan        nan\n",
            "        nan        nan        nan        nan        nan        nan\n",
            " 0.72248326 0.7210067  0.53834968 0.56543532 0.53638401 0.56811159\n",
            " 0.48911565 0.51811159        nan        nan        nan        nan\n",
            "        nan        nan        nan        nan 0.72645151 0.72021305\n",
            " 0.53834968 0.58448294 0.53638401 0.56811159 0.48911565 0.51811159]\n",
            "  warnings.warn(\n"
          ]
        },
        {
          "output_type": "stream",
          "name": "stdout",
          "text": [
            "Best parameters found: {'max_depth': None, 'max_features': 'sqrt', 'min_samples_leaf': 1, 'min_samples_split': 2, 'n_estimators': 100}\n",
            "\n",
            "Test Accuracy: 0.9429\n",
            "Test Weighted F1 Score: 0.9286\n",
            "Test Balanced Accuracy: 0.9375\n",
            "\n",
            "Classification Report:\n",
            "              precision    recall  f1-score   support\n",
            "\n",
            "           0       1.00      1.00      1.00         1\n",
            "           1       0.33      1.00      0.50         1\n",
            "           2       1.00      1.00      1.00         1\n",
            "           3       1.00      1.00      1.00         1\n",
            "           4       1.00      1.00      1.00         1\n",
            "           5       1.00      1.00      1.00         1\n",
            "           6       1.00      1.00      1.00         1\n",
            "           7       1.00      1.00      1.00         1\n",
            "           9       1.00      1.00      1.00         1\n",
            "           A       1.00      1.00      1.00         1\n",
            "           B       1.00      1.00      1.00         1\n",
            "           C       1.00      1.00      1.00         1\n",
            "           D       1.00      1.00      1.00         1\n",
            "           E       1.00      1.00      1.00         2\n",
            "           G       1.00      1.00      1.00         1\n",
            "           H       1.00      1.00      1.00         1\n",
            "           I       0.00      0.00      0.00         1\n",
            "           J       1.00      1.00      1.00         1\n",
            "           K       1.00      1.00      1.00         1\n",
            "           L       1.00      1.00      1.00         1\n",
            "           M       1.00      1.00      1.00         1\n",
            "           O       1.00      1.00      1.00         2\n",
            "           Q       1.00      1.00      1.00         1\n",
            "           R       1.00      1.00      1.00         1\n",
            "           S       1.00      1.00      1.00         1\n",
            "           T       0.00      0.00      0.00         1\n",
            "           U       1.00      1.00      1.00         1\n",
            "           V       1.00      1.00      1.00         2\n",
            "           W       1.00      1.00      1.00         1\n",
            "           X       1.00      1.00      1.00         1\n",
            "           Y       1.00      1.00      1.00         1\n",
            "           Z       1.00      1.00      1.00         1\n",
            "\n",
            "    accuracy                           0.94        35\n",
            "   macro avg       0.92      0.94      0.92        35\n",
            "weighted avg       0.92      0.94      0.93        35\n",
            "\n"
          ]
        }
      ]
    },
    {
      "cell_type": "markdown",
      "source": [
        "The tuned Random Forest model achieved strong overall performance, with a test accuracy of 94.3%, weighted F1 score of 92.9%, and balanced accuracy of 93.8%, indicating effective handling of class imbalance. Most classes showed perfect precision and recall, reflecting the model’s ability to correctly identify characters across the dataset. However, a few rare classes (e.g., labels ‘1’, ‘I’, and ‘T’) had lower recall and F1 scores due to very limited test samples, highlighting challenges with extremely small class sizes. Despite this, the high weighted and balanced metrics demonstrate that the model generalizes well across the diverse multi-class character set."
      ],
      "metadata": {
        "id": "pHPJ9TItjlvQ"
      }
    },
    {
      "cell_type": "code",
      "source": [
        "import joblib\n",
        "\n",
        "# Save best final random forest model in a .pkl file\n",
        "joblib.dump(best_rf, 'random_forest_model.pkl')\n"
      ],
      "metadata": {
        "colab": {
          "base_uri": "https://localhost:8080/"
        },
        "id": "nx1JhBOYYzpo",
        "outputId": "b97c1446-5a1b-41d5-c884-1bbfaf85b974"
      },
      "execution_count": 37,
      "outputs": [
        {
          "output_type": "execute_result",
          "data": {
            "text/plain": [
              "['random_forest_model.pkl']"
            ]
          },
          "metadata": {},
          "execution_count": 37
        }
      ]
    },
    {
      "cell_type": "markdown",
      "source": [
        "## Model Inference on Unseen Image: input100.jpg"
      ],
      "metadata": {
        "id": "_IkrFeQ2TmVh"
      }
    },
    {
      "cell_type": "markdown",
      "source": [
        "In this section, I test the trained random_forest_model.pkl on a completely new, unseen image (input100.jpg). The goal is to evaluate the model’s generalization ability by predicting character masks and verifying if it can correctly classify and segment characters not encountered during training."
      ],
      "metadata": {
        "id": "yYQm4OCTlbXD"
      }
    },
    {
      "cell_type": "code",
      "source": [
        "import cv2\n",
        "import numpy as np\n",
        "import joblib\n",
        "\n",
        "# Load model and mask\n",
        "rf_model = joblib.load('random_forest_model.pkl')\n",
        "always_white_mask = joblib.load('always_white_mask.pkl')\n",
        "\n",
        "# Fixed x coordinates per character segment\n",
        "x_coords = [(5, 13), (14, 22), (23, 31), (32, 40), (41, 49)]\n",
        "\n",
        "# Load unseen captcha image (grayscale)\n",
        "img = cv2.imread('/content/drive/My Drive/sampleCaptchas/input/input100.jpg', cv2.IMREAD_GRAYSCALE)\n",
        "\n",
        "predicted_chars = []\n",
        "\n",
        "for (x_start, x_end) in x_coords:\n",
        "    char_img = img[:, x_start:x_end]\n",
        "    flat_char = char_img.flatten()\n",
        "\n",
        "    if flat_char.shape[0] != 720:\n",
        "        flat_char = cv2.resize(char_img, (24, 30)).flatten()\n",
        "\n",
        "    filtered_char = flat_char[~always_white_mask]\n",
        "\n",
        "    # Predict\n",
        "    pred_char = rf_model.predict([filtered_char])[0]\n",
        "    predicted_chars.append(pred_char)\n",
        "\n",
        "# Combine predicted letters\n",
        "captcha_text = ''.join(predicted_chars)\n",
        "print(\"Predicted CAPTCHA text:\", captcha_text)"
      ],
      "metadata": {
        "colab": {
          "base_uri": "https://localhost:8080/"
        },
        "id": "VgufRRmgY74q",
        "outputId": "a15f439a-e703-4d88-9d6b-e655dceaebd9"
      },
      "execution_count": 47,
      "outputs": [
        {
          "output_type": "stream",
          "name": "stdout",
          "text": [
            "Predicted CAPTCHA text: YMB1Q\n"
          ]
        }
      ]
    },
    {
      "cell_type": "code",
      "source": [
        "import cv2\n",
        "import matplotlib.pyplot as plt\n",
        "\n",
        "# Load image\n",
        "img = cv2.imread(\"/content/drive/My Drive/sampleCaptchas/input/input100.jpg\")\n",
        "\n",
        "# Convert to RGB for correct color display\n",
        "img_rgb = cv2.cvtColor(img, cv2.COLOR_BGR2RGB)\n",
        "\n",
        "# Show it\n",
        "plt.imshow(img_rgb)\n",
        "plt.axis('off')\n",
        "plt.title(\"input100.jpg\")\n",
        "plt.show()\n"
      ],
      "metadata": {
        "colab": {
          "base_uri": "https://localhost:8080/",
          "height": 307
        },
        "id": "3zW6j1sIvIUY",
        "outputId": "3bb2c08b-22b9-4011-b509-9fe0b0fce68b"
      },
      "execution_count": 52,
      "outputs": [
        {
          "output_type": "display_data",
          "data": {
            "text/plain": [
              "<Figure size 640x480 with 1 Axes>"
            ],
            "image/png": "[encoded data removed]"
          },
          "metadata": {}
        }
      ]
    },
    {
      "cell_type": "markdown",
      "source": [
        "When tested on the unseen image input100.jpg, the model successfully identified and predicted the correct sequence of characters, demonstrating its ability to generalize beyond the training data. This indicates that the pipeline from image preprocessing and character segmentation to classification is functioning as intended. However, to further improve model performance and robustness, especially for underrepresented classes, it is recommended to include more labeled examples in the training dataset. Increasing the diversity of samples can help the model handle variations in character shapes and styles, while also addressing class imbalance to ensure fairer and more accurate predictions across all character types."
      ],
      "metadata": {
        "id": "pf1g901JmFaP"
      }
    },
    {
      "cell_type": "markdown",
      "source": [
        "## CAPTCHA Inference Pipeline: Predict Characters from Unseen Images (Final Deliverable)"
      ],
      "metadata": {
        "id": "L2zhB2JBmMWU"
      }
    },
    {
      "cell_type": "code",
      "source": [
        "import numpy as np\n",
        "import joblib\n",
        "from PIL import Image\n",
        "\n",
        "class Captcha(object):\n",
        "    def __init__(self):\n",
        "        # Load the saved Random Forest model\n",
        "        self.model = joblib.load(\"random_forest_model.pkl\")\n",
        "\n",
        "        # Load the always-white mask used during training\n",
        "        self.always_white_mask = joblib.load(\"always_white_mask.pkl\")\n",
        "\n",
        "        # Fixed character segmentation coordinates\n",
        "        self.x_coords = [(5, 13), (14, 22), (23, 31), (32, 40), (41, 49)]\n",
        "\n",
        "    def load_jpg_image(self, img_path):\n",
        "        \"\"\"Load .jpg image and convert it into NumPy array (H, W, 3).\"\"\"\n",
        "        img = Image.open(img_path).convert('RGB')\n",
        "        return np.array(img)\n",
        "\n",
        "    def manual_segment(self, img):\n",
        "        \"\"\"Segment the image using fixed x-coordinates.\"\"\"\n",
        "        return [img[:, x1:x2] for (x1, x2) in self.x_coords]\n",
        "\n",
        "    def clean_greylines(self, segment, gray_thresh=50, intensity_range=(50, 260)):\n",
        "        \"\"\"Remove grayish horizontal artifacts.\"\"\"\n",
        "        seg = segment.copy()\n",
        "        gray = np.abs(seg[:, :, 0] - seg[:, :, 1]) < gray_thresh\n",
        "        gray &= np.abs(seg[:, :, 1] - seg[:, :, 2]) < gray_thresh\n",
        "        intensity = seg.mean(axis=2)\n",
        "        mask = gray & (intensity >= intensity_range[0]) & (intensity <= intensity_range[1])\n",
        "        seg[mask] = [255, 255, 255]\n",
        "        return seg\n",
        "\n",
        "    def flatten_and_filter(self, seg_img):\n",
        "        \"\"\"Flatten image and remove always-white columns.\"\"\"\n",
        "        flattened = seg_img.flatten()\n",
        "        filtered = flattened[~self.always_white_mask]\n",
        "        return filtered\n",
        "\n",
        "    def __call__(self, im_path, save_path):\n",
        "        \"\"\"Perform inference on unseen CAPTCHA image.\"\"\"\n",
        "        # Load image\n",
        "        image = self.load_jpg_image(im_path)\n",
        "\n",
        "        # Segment into 5 characters\n",
        "        segments = self.manual_segment(image)\n",
        "\n",
        "        # Clean gray lines and predict each character\n",
        "        predicted_text = \"\"\n",
        "        for seg in segments:\n",
        "            cleaned = self.clean_greylines(seg)\n",
        "            features = self.flatten_and_filter(cleaned)\n",
        "            prediction = self.model.predict([features])[0]\n",
        "            predicted_text += prediction\n",
        "\n",
        "        # Save the predicted string\n",
        "        with open(save_path, \"w\") as f:\n",
        "            f.write(predicted_text)\n",
        "\n",
        "if __name__ == \"__main__\":\n",
        "    captcha_char = Captcha()\n",
        "    captcha_char(\"/content/drive/My Drive/sampleCaptchas/input/input100.jpg\", \"predicted100.txt\")\n"
      ],
      "metadata": {
        "id": "NeNDIiuRyQYP"
      },
      "execution_count": 18,
      "outputs": []
    }
  ]
}